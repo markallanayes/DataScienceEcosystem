{
 "cells": [
  {
   "cell_type": "markdown",
   "id": "381fc56c-bcb8-4ea0-ba68-736e20ca1c70",
   "metadata": {},
   "source": [
    "# Data Science and Ecosystem"
   ]
  },
  {
   "cell_type": "markdown",
   "id": "191ecfe9-0fc3-429b-8c40-8b073af26a38",
   "metadata": {},
   "source": [
    "In this notebook, Data Science Tools and Ecosystem are summarized."
   ]
  },
  {
   "cell_type": "markdown",
   "id": "4d11c05a-0e5f-453c-b382-5b7fd041ded2",
   "metadata": {},
   "source": [
    "**Objectives:**\n",
    "- List popular languages for Data Science\n",
    "- List popular environments for Data Science\n",
    "- List commonly used libraries by Data Scientists"
   ]
  },
  {
   "cell_type": "markdown",
   "id": "6f09f75d-0951-4404-892c-4840754f9531",
   "metadata": {},
   "source": [
    "Some of the popular languages that Data Scientists use are:\n",
    "1. Python\n",
    "2. Julia\n",
    "3. R"
   ]
  },
  {
   "cell_type": "markdown",
   "id": "ecccda72-6ab9-4dba-a045-11cbccf71299",
   "metadata": {},
   "source": [
    "Some of the commonly used libraries used by Data Scientists include:\n",
    "1. Scikit-learn\n",
    "2. matplotlib\n",
    "3. plotly"
   ]
  },
  {
   "cell_type": "markdown",
   "id": "2b52b6b3-59cc-4696-8972-8d8934c44289",
   "metadata": {},
   "source": [
    "|Data Science Tools|\n",
    "|------------------|\n",
    "|JupyterLab|\n",
    "|VisualStudio Code|\n",
    "|JupyterLite|"
   ]
  },
  {
   "cell_type": "markdown",
   "id": "7b2bce3b-b428-4c71-9beb-2c48a0ef5d66",
   "metadata": {},
   "source": [
    "### Below are a few examples of evaluating arithmetic expressions in Python"
   ]
  },
  {
   "cell_type": "markdown",
   "id": "a0039a30-9c21-4736-ba27-1832e60a827e",
   "metadata": {},
   "source": [
    "This a simple arithmetic expression to mutiply then add integers"
   ]
  },
  {
   "cell_type": "code",
   "execution_count": 36,
   "id": "c8e7cf74-ecff-4f7a-bffe-14b476b93a1c",
   "metadata": {},
   "outputs": [
    {
     "data": {
      "text/plain": [
       "17"
      ]
     },
     "execution_count": 36,
     "metadata": {},
     "output_type": "execute_result"
    }
   ],
   "source": [
    "(3*4)+5"
   ]
  },
  {
   "cell_type": "markdown",
   "id": "e77fad51-ffd4-4360-827b-a25ad892a5e0",
   "metadata": {},
   "source": [
    "This will convert 200 minutes to hours by diving by 60"
   ]
  },
  {
   "cell_type": "code",
   "execution_count": 40,
   "id": "46147f21-0b27-4c54-bab4-d9b5e6ff330d",
   "metadata": {},
   "outputs": [
    {
     "data": {
      "text/plain": [
       "3.3333333333333335"
      ]
     },
     "execution_count": 40,
     "metadata": {},
     "output_type": "execute_result"
    }
   ],
   "source": [
    "200/60"
   ]
  },
  {
   "cell_type": "markdown",
   "id": "c745d7a7-2966-40f0-8eb8-79c296fe5ebb",
   "metadata": {},
   "source": [
    "## Author\n",
    "Mark Ayes"
   ]
  },
  {
   "cell_type": "code",
   "execution_count": null,
   "id": "697ac424-7271-4cdf-834f-1905007c254c",
   "metadata": {},
   "outputs": [],
   "source": []
  }
 ],
 "metadata": {
  "kernelspec": {
   "display_name": "Python 3 (ipykernel)",
   "language": "python",
   "name": "python3"
  },
  "language_info": {
   "codemirror_mode": {
    "name": "ipython",
    "version": 3
   },
   "file_extension": ".py",
   "mimetype": "text/x-python",
   "name": "python",
   "nbconvert_exporter": "python",
   "pygments_lexer": "ipython3",
   "version": "3.12.4"
  }
 },
 "nbformat": 4,
 "nbformat_minor": 5
}
